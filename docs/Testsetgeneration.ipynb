{
 "cells": [
  {
   "cell_type": "markdown",
   "id": "fe8644a7",
   "metadata": {},
   "source": [
    "### Import Required libraries"
   ]
  },
  {
   "cell_type": "code",
   "execution_count": 1,
   "id": "5aab66fc",
   "metadata": {},
   "outputs": [],
   "source": [
    "import os\n",
    "import json\n",
    "from llama_index import download_loader\n",
    "from ragas.testset import TestsetGenerator\n",
    "\n",
    "\n",
    "os.environ[\"OPENAI_API_KEY\"] = \"your-openai-key\""
   ]
  },
  {
   "cell_type": "markdown",
   "id": "51dff76e",
   "metadata": {},
   "source": [
    "### Load documents using document loader"
   ]
  },
  {
   "cell_type": "code",
   "execution_count": 5,
   "id": "792dafa8",
   "metadata": {},
   "outputs": [],
   "source": [
    "SemanticScholarReader = download_loader(\"SemanticScholarReader\")\n",
    "loader = SemanticScholarReader()\n",
    "# narrow down the search space\n",
    "query_space = \"large language models\"\n",
    "# increase limit to get more documents\n",
    "documents = loader.load_data(query=query_space, limit=10)"
   ]
  },
  {
   "cell_type": "markdown",
   "id": "b1d0356b",
   "metadata": {},
   "source": [
    "### Generate test set using default configurations"
   ]
  },
  {
   "cell_type": "code",
   "execution_count": 8,
   "id": "30caed35",
   "metadata": {},
   "outputs": [],
   "source": [
    "testsetgenerator = TestsetGenerator.from_default()\n",
    "test_size = 2  # Number of samples to generate\n",
    "testset = testsetgenerator.generate(documents, test_size=test_size)"
   ]
  },
  {
   "cell_type": "code",
   "execution_count": 11,
   "id": "c8162006",
   "metadata": {},
   "outputs": [
    {
     "data": {
      "text/html": [
       "<div>\n",
       "<style scoped>\n",
       "    .dataframe tbody tr th:only-of-type {\n",
       "        vertical-align: middle;\n",
       "    }\n",
       "\n",
       "    .dataframe tbody tr th {\n",
       "        vertical-align: top;\n",
       "    }\n",
       "\n",
       "    .dataframe thead th {\n",
       "        text-align: right;\n",
       "    }\n",
       "</style>\n",
       "<table border=\"1\" class=\"dataframe\">\n",
       "  <thead>\n",
       "    <tr style=\"text-align: right;\">\n",
       "      <th></th>\n",
       "      <th>question</th>\n",
       "      <th>context</th>\n",
       "      <th>answer</th>\n",
       "      <th>question_type</th>\n",
       "      <th>episode_done</th>\n",
       "    </tr>\n",
       "  </thead>\n",
       "  <tbody>\n",
       "    <tr>\n",
       "      <th>0</th>\n",
       "      <td>What is the synthesis performance of large lan...</td>\n",
       "      <td>- Our benchmarks are designed to measure the a...</td>\n",
       "      <td>The synthesis performance of large language mo...</td>\n",
       "      <td>simple</td>\n",
       "      <td>True</td>\n",
       "    </tr>\n",
       "    <tr>\n",
       "      <th>1</th>\n",
       "      <td>How did ChatGPT fare on the USMLE exams in ter...</td>\n",
       "      <td>- ChatGPT performed at or near the passing thr...</td>\n",
       "      <td>ChatGPT performed well on the USMLE exams in t...</td>\n",
       "      <td>reasoning</td>\n",
       "      <td>True</td>\n",
       "    </tr>\n",
       "  </tbody>\n",
       "</table>\n",
       "</div>"
      ],
      "text/plain": [
       "                                            question  \\\n",
       "0  What is the synthesis performance of large lan...   \n",
       "1  How did ChatGPT fare on the USMLE exams in ter...   \n",
       "\n",
       "                                             context  \\\n",
       "0  - Our benchmarks are designed to measure the a...   \n",
       "1  - ChatGPT performed at or near the passing thr...   \n",
       "\n",
       "                                              answer question_type  \\\n",
       "0  The synthesis performance of large language mo...        simple   \n",
       "1  ChatGPT performed well on the USMLE exams in t...     reasoning   \n",
       "\n",
       "   episode_done  \n",
       "0          True  \n",
       "1          True  "
      ]
     },
     "execution_count": 11,
     "metadata": {},
     "output_type": "execute_result"
    }
   ],
   "source": [
    "testset.to_pandas()"
   ]
  },
  {
   "cell_type": "code",
   "execution_count": null,
   "id": "34474b1a",
   "metadata": {},
   "outputs": [],
   "source": []
  }
 ],
 "metadata": {
  "kernelspec": {
   "display_name": "ragas",
   "language": "python",
   "name": "ragas"
  },
  "language_info": {
   "codemirror_mode": {
    "name": "ipython",
    "version": 3
   },
   "file_extension": ".py",
   "mimetype": "text/x-python",
   "name": "python",
   "nbconvert_exporter": "python",
   "pygments_lexer": "ipython3",
   "version": "3.10.8"
  }
 },
 "nbformat": 4,
 "nbformat_minor": 5
}

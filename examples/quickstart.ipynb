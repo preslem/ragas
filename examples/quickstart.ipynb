{
 "cells": [
  {
   "cell_type": "code",
   "execution_count": 7,
   "id": "992c777a",
   "metadata": {},
   "outputs": [],
   "source": [
    "%load_ext autoreload\n",
    "%autoreload 2"
   ]
  },
  {
   "cell_type": "code",
   "execution_count": 4,
   "id": "5eaf4729",
   "metadata": {},
   "outputs": [
    {
     "name": "stderr",
     "output_type": "stream",
     "text": [
      "Found cached dataset eli5 (/home/jjmachan/.cache/huggingface/datasets/eli5/LFQA_reddit/1.0.0/17574e5502a10f41bbd17beba83e22475b499fa62caa1384a3d093fc856fe6fa)\n"
     ]
    },
    {
     "data": {
      "application/vnd.jupyter.widget-view+json": {
       "model_id": "a2231863e61c4ffd8d695c8531a48139",
       "version_major": 2,
       "version_minor": 0
      },
      "text/plain": [
       "  0%|          | 0/9 [00:00<?, ?it/s]"
      ]
     },
     "metadata": {},
     "output_type": "display_data"
    },
    {
     "name": "stderr",
     "output_type": "stream",
     "text": [
      "Loading cached processed dataset at /home/jjmachan/.cache/huggingface/datasets/eli5/LFQA_reddit/1.0.0/17574e5502a10f41bbd17beba83e22475b499fa62caa1384a3d093fc856fe6fa/cache-f3427cd7a8a8674f.arrow\n"
     ]
    }
   ],
   "source": [
    "from datasets import load_dataset, concatenate_datasets\n",
    "\n",
    "def format_for_belar(row):\n",
    "    row[\"context\"] = row[\"selftext\"]\n",
    "    row[\"prompt\"] = row[\"title\"]\n",
    "    row['ground_truth'] = row[\"answers\"][\"text\"]\n",
    "    return row\n",
    "    \n",
    "d = load_dataset(\"eli5\")\n",
    "ds = d['test_eli5'].map(format_for_belar, batched=False)\n",
    "ds = ds.select_columns([\"context\", \"prompt\", \"ground_truth\"])"
   ]
  },
  {
   "cell_type": "code",
   "execution_count": 5,
   "id": "a501c296",
   "metadata": {},
   "outputs": [
    {
     "data": {
      "text/plain": [
       "(500, 3)"
      ]
     },
     "execution_count": 5,
     "metadata": {},
     "output_type": "execute_result"
    }
   ],
   "source": [
    "ds = ds.shuffle(seed=42).select(range(500))\n",
    "ds.shape"
   ]
  },
  {
   "cell_type": "code",
   "execution_count": 8,
   "id": "763335eb",
   "metadata": {},
   "outputs": [
    {
     "data": {
      "text/plain": [
       "['context', 'prompt', 'ground_truth']"
      ]
     },
     "execution_count": 8,
     "metadata": {},
     "output_type": "execute_result"
    }
   ],
   "source": [
    "ds.column_names"
   ]
  },
  {
   "cell_type": "code",
   "execution_count": null,
   "id": "6aff2ae9",
   "metadata": {},
   "outputs": [],
   "source": []
  },
  {
   "cell_type": "code",
   "execution_count": 10,
   "id": "c32c39f5",
   "metadata": {},
   "outputs": [
    {
     "data": {
      "application/vnd.jupyter.widget-view+json": {
       "model_id": "",
       "version_major": 2,
       "version_minor": 0
      },
      "text/plain": [
       "Map:   0%|          | 0/500 [00:00<?, ? examples/s]"
      ]
     },
     "metadata": {},
     "output_type": "display_data"
    }
   ],
   "source": [
    "import concurrent.futures as f\n",
    "from langchain.llms import OpenAI\n",
    "\n",
    "llm = OpenAI()\n",
    "prompt = \"\"\"\n",
    "{context}\n",
    "with the above context explain like I'm five: {prompt}\n",
    "\"\"\"\n",
    "\n",
    "def get_answers(row):\n",
    "    qs, cs = row[\"prompt\"], row[\"context\"]\n",
    "    \n",
    "    generated_answers = []\n",
    "    with f.ThreadPoolExecutor(max_workers=10) as executor:\n",
    "        results = executor.map(llm, \n",
    "            [prompt.format(context=cs[i], prompt=qs[i]) for i in range(len(qs))])\n",
    "        for result in results:\n",
    "            generated_answers.append(result)\n",
    "     \n",
    "    row[\"generated_answers\"] = generated_answers\n",
    "    return row\n",
    "    \n",
    "ds = ds.map(get_answers, batched=True, batch_size=10)"
   ]
  },
  {
   "cell_type": "markdown",
   "id": "c5ddec2d",
   "metadata": {},
   "source": [
    "## Evalutate"
   ]
  },
  {
   "cell_type": "code",
   "execution_count": 54,
   "id": "2d0a7ba7",
   "metadata": {},
   "outputs": [],
   "source": [
    "from belar.metrics import Rouge1, Evaluation, Rouge2, RougeL"
   ]
  },
  {
   "cell_type": "code",
   "execution_count": 9,
   "id": "001ab431",
   "metadata": {},
   "outputs": [
    {
     "data": {
      "text/plain": [
       "['context', 'question', 'answers', 'answer_generated']"
      ]
     },
     "execution_count": 9,
     "metadata": {},
     "output_type": "execute_result"
    }
   ],
   "source": [
    "ds.column_names"
   ]
  },
  {
   "cell_type": "code",
   "execution_count": 15,
   "id": "ce9448b9",
   "metadata": {},
   "outputs": [
    {
     "name": "stderr",
     "output_type": "stream",
     "text": [
      "WARNING:datasets.arrow_dataset:Loading cached processed dataset at /home/jjmachan/.cache/huggingface/datasets/eli5/LFQA_reddit/1.0.0/17574e5502a10f41bbd17beba83e22475b499fa62caa1384a3d093fc856fe6fa/cache-de2b7e402d0a395c.arrow\n"
     ]
    },
    {
     "data": {
      "text/plain": [
       "Dataset({\n",
       "    features: ['context', 'prompt', 'references', 'ground_truth', 'generated_text'],\n",
       "    num_rows: 100\n",
       "})"
      ]
     },
     "execution_count": 15,
     "metadata": {},
     "output_type": "execute_result"
    }
   ],
   "source": [
    "def rename(row):\n",
    "    row[\"prompt\"] = row[\"question\"]\n",
    "    row[\"references\"] = []\n",
    "    row[\"ground_truth\"] = row[\"answers\"]\n",
    "    row[\"generated_text\"] = row[\"answer_generated\"]\n",
    "    \n",
    "    return row\n",
    "\n",
    "ds = ds.map(rename).select_columns(\n",
    "    [\"prompt\", \"context\", \"references\", \"ground_truth\", \"generated_text\"]\n",
    ")\n",
    "ds"
   ]
  },
  {
   "cell_type": "code",
   "execution_count": 47,
   "id": "49565367",
   "metadata": {},
   "outputs": [
    {
     "data": {
      "application/vnd.jupyter.widget-view+json": {
       "model_id": "a14aebe3baca44e386442688a86b26ad",
       "version_major": 2,
       "version_minor": 0
      },
      "text/plain": [
       "Pushing dataset shards to the dataset hub:   0%|          | 0/1 [00:00<?, ?it/s]"
      ]
     },
     "metadata": {},
     "output_type": "display_data"
    },
    {
     "data": {
      "application/vnd.jupyter.widget-view+json": {
       "model_id": "ed53f7de6f7c4638ad664b9553e14789",
       "version_major": 2,
       "version_minor": 0
      },
      "text/plain": [
       "Creating parquet from Arrow format:   0%|          | 0/1 [00:00<?, ?ba/s]"
      ]
     },
     "metadata": {},
     "output_type": "display_data"
    },
    {
     "data": {
      "application/vnd.jupyter.widget-view+json": {
       "model_id": "39b71f5f8c0742f3b90da786e910eef3",
       "version_major": 2,
       "version_minor": 0
      },
      "text/plain": [
       "Upload 1 LFS files:   0%|          | 0/1 [00:00<?, ?it/s]"
      ]
     },
     "metadata": {},
     "output_type": "display_data"
    }
   ],
   "source": [
    "ds.push_to_hub(\"explodinggradients/eli5-test\")"
   ]
  },
  {
   "cell_type": "code",
   "execution_count": 81,
   "id": "1dcbdbd1",
   "metadata": {},
   "outputs": [
    {
     "data": {
      "application/vnd.jupyter.widget-view+json": {
       "model_id": "",
       "version_major": 2,
       "version_minor": 0
      },
      "text/plain": [
       "Map:   0%|          | 0/100 [00:00<?, ? examples/s]"
      ]
     },
     "metadata": {},
     "output_type": "display_data"
    },
    {
     "data": {
      "text/plain": [
       "Dataset({\n",
       "    features: ['ground_truth', 'generated_text', 'rouge1_score', 'rouge2_score', 'rougeL_score'],\n",
       "    num_rows: 100\n",
       "})"
      ]
     },
     "execution_count": 81,
     "metadata": {},
     "output_type": "execute_result"
    }
   ],
   "source": [
    "e = Evaluation(metrics=[Rouge1, Rouge2, RougeL])\n",
    "e.eval(ds.select_columns([\"ground_truth\"]), ds[\"generated_text\"])"
   ]
  },
  {
   "cell_type": "code",
   "execution_count": null,
   "id": "27b0b9a7",
   "metadata": {},
   "outputs": [],
   "source": []
  }
 ],
 "metadata": {
  "kernelspec": {
   "display_name": "Python 3 (ipykernel)",
   "language": "python",
   "name": "python3"
  },
  "language_info": {
   "codemirror_mode": {
    "name": "ipython",
    "version": 3
   },
   "file_extension": ".py",
   "mimetype": "text/x-python",
   "name": "python",
   "nbconvert_exporter": "python",
   "pygments_lexer": "ipython3",
   "version": "3.10.11"
  }
 },
 "nbformat": 4,
 "nbformat_minor": 5
}

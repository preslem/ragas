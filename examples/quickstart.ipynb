{
 "cells": [
  {
   "cell_type": "code",
   "execution_count": 7,
   "id": "806b182e",
   "metadata": {},
   "outputs": [],
   "source": [
    "%load_ext autoreload\n",
    "%autoreload 2"
   ]
  },
  {
   "cell_type": "code",
   "execution_count": 2,
   "id": "4dfd5a18",
   "metadata": {},
   "outputs": [
    {
     "name": "stderr",
     "output_type": "stream",
     "text": [
      "Found cached dataset eli5 (/home/jjmachan/.cache/huggingface/datasets/eli5/LFQA_reddit/1.0.0/17574e5502a10f41bbd17beba83e22475b499fa62caa1384a3d093fc856fe6fa)\n"
     ]
    },
    {
     "data": {
      "application/vnd.jupyter.widget-view+json": {
       "model_id": "b3e986700a834fa6ab1e327b49e1fae3",
       "version_major": 2,
       "version_minor": 0
      },
      "text/plain": [
       "  0%|          | 0/9 [00:00<?, ?it/s]"
      ]
     },
     "metadata": {},
     "output_type": "display_data"
    },
    {
     "name": "stderr",
     "output_type": "stream",
     "text": [
      "Loading cached processed dataset at /home/jjmachan/.cache/huggingface/datasets/eli5/LFQA_reddit/1.0.0/17574e5502a10f41bbd17beba83e22475b499fa62caa1384a3d093fc856fe6fa/cache-b6864f61633d1e41.arrow\n"
     ]
    }
   ],
   "source": [
    "from datasets import load_dataset, concatenate_datasets\n",
    "\n",
    "def format_for_belar(row):\n",
    "    row[\"context\"] = row[\"selftext\"]\n",
    "    row[\"question\"] = row[\"title\"]\n",
    "    row['answers'] = row[\"answers\"][\"text\"]\n",
    "    return row\n",
    "    \n",
    "d = load_dataset(\"eli5\")\n",
    "ds = d['test_eli5'].map(format_for_belar, batched=False)\n",
    "ds = ds.select_columns([\"context\", \"question\", \"answers\"])"
   ]
  },
  {
   "cell_type": "code",
   "execution_count": 3,
   "id": "5c2974c5",
   "metadata": {},
   "outputs": [
    {
     "data": {
      "text/plain": [
       "(100, 3)"
      ]
     },
     "execution_count": 3,
     "metadata": {},
     "output_type": "execute_result"
    }
   ],
   "source": [
    "ds = ds.shuffle().select(range(100))\n",
    "ds.shape"
   ]
  },
  {
   "cell_type": "code",
   "execution_count": 6,
   "id": "5546153b",
   "metadata": {},
   "outputs": [
    {
     "data": {
      "application/vnd.jupyter.widget-view+json": {
       "model_id": "",
       "version_major": 2,
       "version_minor": 0
      },
      "text/plain": [
       "Map:   0%|          | 0/100 [00:00<?, ? examples/s]"
      ]
     },
     "metadata": {},
     "output_type": "display_data"
    }
   ],
   "source": [
    "def get_answers(row):\n",
    "    row[\"answer_generated\"] = llm(prompt.format(\n",
    "        context=row['context'],\n",
    "        question=row['question'])\n",
    "       )\n",
    "    return row\n",
    "    \n",
    "ds = ds.map(get_answers, batched=False)"
   ]
  },
  {
   "cell_type": "markdown",
   "id": "5fd1de0f",
   "metadata": {},
   "source": [
    "## Evalutate"
   ]
  },
  {
   "cell_type": "code",
   "execution_count": 8,
   "id": "fe5c5195",
   "metadata": {},
   "outputs": [],
   "source": [
    "from belar.metrics import Rouge1, Evaluation"
   ]
  },
  {
   "cell_type": "code",
   "execution_count": 9,
   "id": "e4e5ee0a",
   "metadata": {},
   "outputs": [
    {
     "data": {
      "text/plain": [
       "['context', 'question', 'answers', 'answer_generated']"
      ]
     },
     "execution_count": 9,
     "metadata": {},
     "output_type": "execute_result"
    }
   ],
   "source": [
    "ds.column_names"
   ]
  },
  {
   "cell_type": "code",
   "execution_count": 15,
   "id": "8eb82c25",
   "metadata": {},
   "outputs": [
    {
     "name": "stderr",
     "output_type": "stream",
     "text": [
      "WARNING:datasets.arrow_dataset:Loading cached processed dataset at /home/jjmachan/.cache/huggingface/datasets/eli5/LFQA_reddit/1.0.0/17574e5502a10f41bbd17beba83e22475b499fa62caa1384a3d093fc856fe6fa/cache-de2b7e402d0a395c.arrow\n"
     ]
    },
    {
     "data": {
      "text/plain": [
       "Dataset({\n",
       "    features: ['context', 'prompt', 'references', 'ground_truth', 'generated_text'],\n",
       "    num_rows: 100\n",
       "})"
      ]
     },
     "execution_count": 15,
     "metadata": {},
     "output_type": "execute_result"
    }
   ],
   "source": [
    "def rename(row):\n",
    "    row[\"prompt\"] = row[\"question\"]\n",
    "    row[\"references\"] = []\n",
    "    row[\"ground_truth\"] = row[\"answers\"]\n",
    "    row[\"generated_text\"] = row[\"answer_generated\"]\n",
    "    \n",
    "    return row\n",
    "\n",
    "ds = ds.map(rename).select_columns(\n",
    "    [\"prompt\", \"context\", \"references\", \"ground_truth\", \"generated_text\"]\n",
    ")\n",
    "ds"
   ]
  },
  {
   "cell_type": "code",
   "execution_count": 39,
   "id": "c3d4543d",
   "metadata": {},
   "outputs": [
    {
     "name": "stderr",
     "output_type": "stream",
     "text": [
      "WARNING:datasets.arrow_dataset:Loading cached processed dataset at /home/jjmachan/.cache/huggingface/datasets/eli5/LFQA_reddit/1.0.0/17574e5502a10f41bbd17beba83e22475b499fa62caa1384a3d093fc856fe6fa/cache-b775b691e85e97cb.arrow\n"
     ]
    },
    {
     "data": {
      "text/plain": [
       "[[0.3235294117647059,\n",
       "  0.3870967741935484,\n",
       "  0.3372093023255814,\n",
       "  0.296875,\n",
       "  0.3785488958990536,\n",
       "  0.19729206963249518,\n",
       "  0.27807486631016043,\n",
       "  0.25225225225225223,\n",
       "  0.15196078431372548,\n",
       "  0.1170212765957447,\n",
       "  0.24509803921568626,\n",
       "  0.1894736842105263,\n",
       "  0.3106796116504854,\n",
       "  0.3240223463687151,\n",
       "  0.20689655172413796,\n",
       "  0.15686274509803924,\n",
       "  0.11363636363636362,\n",
       "  0.27636363636363637,\n",
       "  0.2524271844660194,\n",
       "  0.380952380952381,\n",
       "  0.233502538071066,\n",
       "  0.1842105263157895,\n",
       "  0.22900763358778622,\n",
       "  0.1518987341772152,\n",
       "  0.2631578947368421,\n",
       "  0.3764705882352941,\n",
       "  0.2301369863013699,\n",
       "  0.2553191489361702,\n",
       "  0.20689655172413796,\n",
       "  0.20930232558139533,\n",
       "  0.4035087719298246,\n",
       "  0.24295774647887325,\n",
       "  0.271604938271605,\n",
       "  0.22307692307692306,\n",
       "  0.18181818181818182,\n",
       "  0.37818181818181823,\n",
       "  0.15436241610738255,\n",
       "  0.17500000000000002,\n",
       "  0.30075187969924805,\n",
       "  0.1257142857142857,\n",
       "  0.3574144486692016,\n",
       "  0.20408163265306123,\n",
       "  0.36601307189542487,\n",
       "  0.2637362637362637,\n",
       "  0.21794871794871798,\n",
       "  0.2684563758389262,\n",
       "  0.23354564755838642,\n",
       "  0.1518987341772152,\n",
       "  0.12743362831858404,\n",
       "  0.18461538461538463,\n",
       "  0.23809523809523808,\n",
       "  0.2580645161290323,\n",
       "  0.32352941176470584,\n",
       "  0.2891566265060241,\n",
       "  0.24050632911392403,\n",
       "  0.18888888888888888,\n",
       "  0.2956521739130435,\n",
       "  0.18840579710144928,\n",
       "  0.3103448275862069,\n",
       "  0.05714285714285715,\n",
       "  0.23076923076923078,\n",
       "  0.3003952569169961,\n",
       "  0.24719101123595508,\n",
       "  0.1072961373390558,\n",
       "  0.180327868852459,\n",
       "  0.11666666666666667,\n",
       "  0.2268041237113402,\n",
       "  0.2709677419354839,\n",
       "  0.3373493975903615,\n",
       "  0.22525597269624573,\n",
       "  0.2654028436018957,\n",
       "  0.2072538860103627,\n",
       "  0.13953488372093026,\n",
       "  0.1981132075471698,\n",
       "  0.25842696629213485,\n",
       "  0.11864406779661017,\n",
       "  0.1834061135371179,\n",
       "  0.2310756972111554,\n",
       "  0.3469387755102041,\n",
       "  0.28571428571428575,\n",
       "  0.18055555555555555,\n",
       "  0.24489795918367346,\n",
       "  0.26519337016574585,\n",
       "  0.27586206896551724,\n",
       "  0.1282798833819242,\n",
       "  0.2105263157894737,\n",
       "  0.20905923344947733,\n",
       "  0.3793103448275862,\n",
       "  0.25000000000000006,\n",
       "  0.17142857142857143,\n",
       "  0.35251798561151076,\n",
       "  0.16551724137931034,\n",
       "  0.13333333333333333,\n",
       "  0.14835164835164835,\n",
       "  0.11764705882352941,\n",
       "  0.4154589371980677,\n",
       "  0.4647887323943662,\n",
       "  0.125,\n",
       "  0.16296296296296295,\n",
       "  0.37007874015748027]]"
      ]
     },
     "execution_count": 39,
     "metadata": {},
     "output_type": "execute_result"
    }
   ],
   "source": [
    "e = Evaluation(metrics=[Rouge1])\n",
    "e.eval(ds.select_columns([\"ground_truth\"]),\n",
    "                         ds[\"generated_text\"])"
   ]
  },
  {
   "cell_type": "code",
   "execution_count": 36,
   "id": "86981217",
   "metadata": {},
   "outputs": [
    {
     "data": {
      "text/plain": [
       "list"
      ]
     },
     "execution_count": 36,
     "metadata": {},
     "output_type": "execute_result"
    }
   ],
   "source": [
    "type(ds[\"generated_text\"])"
   ]
  },
  {
   "cell_type": "code",
   "execution_count": null,
   "id": "247af506",
   "metadata": {},
   "outputs": [],
   "source": []
  }
 ],
 "metadata": {
  "kernelspec": {
   "display_name": "Python 3 (ipykernel)",
   "language": "python",
   "name": "python3"
  },
  "language_info": {
   "codemirror_mode": {
    "name": "ipython",
    "version": 3
   },
   "file_extension": ".py",
   "mimetype": "text/x-python",
   "name": "python",
   "nbconvert_exporter": "python",
   "pygments_lexer": "ipython3",
   "version": "3.10.11"
  }
 },
 "nbformat": 4,
 "nbformat_minor": 5
}

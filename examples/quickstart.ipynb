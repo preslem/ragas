{
 "cells": [
  {
   "cell_type": "code",
   "execution_count": 26,
   "id": "528f8e1f",
   "metadata": {},
   "outputs": [
    {
     "name": "stderr",
     "output_type": "stream",
     "text": [
      "Found cached dataset eli5 (/home/jjmachan/.cache/huggingface/datasets/eli5/LFQA_reddit/1.0.0/17574e5502a10f41bbd17beba83e22475b499fa62caa1384a3d093fc856fe6fa)\n"
     ]
    },
    {
     "data": {
      "application/vnd.jupyter.widget-view+json": {
       "model_id": "e62ce3638699497bbb6d9e0ee5997ab7",
       "version_major": 2,
       "version_minor": 0
      },
      "text/plain": [
       "  0%|          | 0/9 [00:00<?, ?it/s]"
      ]
     },
     "metadata": {},
     "output_type": "display_data"
    },
    {
     "name": "stderr",
     "output_type": "stream",
     "text": [
      "Loading cached processed dataset at /home/jjmachan/.cache/huggingface/datasets/eli5/LFQA_reddit/1.0.0/17574e5502a10f41bbd17beba83e22475b499fa62caa1384a3d093fc856fe6fa/cache-b6864f61633d1e41.arrow\n"
     ]
    }
   ],
   "source": [
    "from datasets import load_dataset, concatenate_datasets\n",
    "\n",
    "def format_for_belar(row):\n",
    "    row[\"context\"] = row[\"selftext\"]\n",
    "    row[\"question\"] = row[\"title\"]\n",
    "    row['answers'] = row[\"answers\"][\"text\"]\n",
    "    return row\n",
    "    \n",
    "d = load_dataset(\"eli5\")\n",
    "ds = d['test_eli5'].map(format_for_belar, batched=False)\n",
    "ds = d_tmp.select_columns([\"context\", \"question\", \"answers\"])"
   ]
  },
  {
   "cell_type": "code",
   "execution_count": 34,
   "id": "cfdb29b6",
   "metadata": {},
   "outputs": [
    {
     "data": {
      "text/plain": [
       "(100, 3)"
      ]
     },
     "execution_count": 34,
     "metadata": {},
     "output_type": "execute_result"
    }
   ],
   "source": [
    "ds.shape"
   ]
  },
  {
   "cell_type": "code",
   "execution_count": 35,
   "id": "a5c77fd7",
   "metadata": {},
   "outputs": [
    {
     "data": {
      "text/plain": [
       "(100, 3)"
      ]
     },
     "execution_count": 35,
     "metadata": {},
     "output_type": "execute_result"
    }
   ],
   "source": [
    "ds = ds.shuffle().select(range(100))\n",
    "ds.shape"
   ]
  },
  {
   "cell_type": "code",
   "execution_count": 44,
   "id": "4dfdc6f0",
   "metadata": {},
   "outputs": [
    {
     "name": "stdout",
     "output_type": "stream",
     "text": [
      "\n",
      "Acronyms are words made out of the first letters of other words. For example, the word \"radar\" is made out of the first letters of \"radio detection and ranging.\" The people who invented these words made them so that they could be said quickly, but it is also lucky that we can say them as a noun, or a word for a person, place, or thing.\n"
     ]
    }
   ],
   "source": [
    "from langchain.llms import OpenAI\n",
    "\n",
    "llm = OpenAI()\n",
    "prompt = \"\"\"\n",
    "{context}\n",
    "with the context above xplain like I'm five: {question}\n",
    "\"\"\"\n",
    "i = 16\n",
    "print(\n",
    "    llm(prompt.format(\n",
    "        context=ds[i]['context'],\n",
    "        question=ds[i]['question'])\n",
    "       )\n",
    ")"
   ]
  },
  {
   "cell_type": "code",
   "execution_count": 45,
   "id": "f19a32ac",
   "metadata": {},
   "outputs": [
    {
     "data": {
      "text/plain": [
       "('When acronyms are used as words such as radar, laser, sonar, scuba, are they derived with the intent of being used as words or is it just happy luck that we can say them as a noun?',\n",
       " [\"A lot of them are specifically named so they can be said as a word. I'm sure there are some that weren't, too.\\n\\nDo you think the **U**niting and **S**trengthening **A**merica by **P**roviding **A**ppropriate **T**ools **R**equired to **I**ntercept and **O**bstruct **T**errorism Act (the USA PATRIOT Act) was named that way by accident?\",\n",
       "  'If a the abbreviations of a group of words can be pronounced, they are an acronym.  Examples; SCUBA, NASA, SONAR, etc.  If they can not be pronounced they are an initialism. Examples; FBI, CIA, DVD.\\n\\n_URL_0_'])"
      ]
     },
     "execution_count": 45,
     "metadata": {},
     "output_type": "execute_result"
    }
   ],
   "source": [
    "ds[i][\"question\"], ds[i][\"answers\"]"
   ]
  },
  {
   "cell_type": "code",
   "execution_count": null,
   "id": "1a30ed6d",
   "metadata": {},
   "outputs": [
    {
     "data": {
      "application/vnd.jupyter.widget-view+json": {
       "model_id": "344a1e3d1a1848b89982827712107c2c",
       "version_major": 2,
       "version_minor": 0
      },
      "text/plain": [
       "Map:   0%|          | 0/100 [00:00<?, ? examples/s]"
      ]
     },
     "metadata": {},
     "output_type": "display_data"
    }
   ],
   "source": [
    "def get_answers(row):\n",
    "    row[\"answer_generated\"] = llm(prompt.format(\n",
    "        context=row['context'],\n",
    "        question=row['question'])\n",
    "       )\n",
    "    return row\n",
    "    \n",
    "ds.map(get_answers, batched=False)"
   ]
  },
  {
   "cell_type": "code",
   "execution_count": null,
   "id": "01ae6f6c",
   "metadata": {},
   "outputs": [],
   "source": []
  }
 ],
 "metadata": {
  "kernelspec": {
   "display_name": "Python 3 (ipykernel)",
   "language": "python",
   "name": "python3"
  },
  "language_info": {
   "codemirror_mode": {
    "name": "ipython",
    "version": 3
   },
   "file_extension": ".py",
   "mimetype": "text/x-python",
   "name": "python",
   "nbconvert_exporter": "python",
   "pygments_lexer": "ipython3",
   "version": "3.10.11"
  }
 },
 "nbformat": 4,
 "nbformat_minor": 5
}
